{
 "cells": [
  {
   "cell_type": "code",
   "execution_count": null,
   "id": "b98b8772-c746-4116-8d30-93685d1c2c74",
   "metadata": {},
   "outputs": [],
   "source": [
    "# install metpy if needed\n",
    "!pip install metpy"
   ]
  },
  {
   "cell_type": "code",
   "execution_count": 2,
   "id": "e167c7e4-8ad9-462d-b4ad-600e5a265102",
   "metadata": {},
   "outputs": [],
   "source": [
    "import scipy\n",
    "import pandas as pd\n",
    "import xarray as xr\n",
    "import numpy as np\n",
    "import matplotlib.pyplot as plt\n",
    "from utils import lw_clr\n",
    "from metpy.units import units\n",
    "import metpy.calc as mpcalc"
   ]
  },
  {
   "cell_type": "code",
   "execution_count": 3,
   "id": "d1435192-e59d-465e-95a7-cc6023fdd877",
   "metadata": {},
   "outputs": [],
   "source": [
    "# Load template forcing file with correct attributes\n",
    "template = xr.open_dataset('copy_prr_2010-2014.nc')\n",
    "\n",
    "# Load netcdf with era5 data for Buckinghorse for 2016\n",
    "ds = xr.load_dataset('./era5_WY2016.nc')"
   ]
  },
  {
   "cell_type": "code",
   "execution_count": 5,
   "id": "0fb0cf8a-9739-47e0-9535-e756c24b35d8",
   "metadata": {},
   "outputs": [],
   "source": [
    "# define target lat/lon for Buckinghorse SNOTEL\n",
    "target_lat = 47.43\n",
    "target_lon = -123.27\n",
    "\n",
    "# select data for this grid cell and convert to dataframe\n",
    "buck = ds.sel(latitude=target_lat, longitude=target_lon, method='nearest').to_dataframe()\n",
    "\n",
    "# convert precip to kg m-2 s-1\n",
    "buck['pptrate'] = buck['tp']/3.6\n",
    "\n",
    "# compute wind speed from u and v components\n",
    "buck['windspd'] = (buck['u10']**2 + buck['v10']**2)**0.5\n",
    "\n",
    "# convert incoming SW Rad to W m-2\n",
    "buck['SWRadAtm'] = buck['ssrd']/3600\n",
    "# set all erroneous negative SWRadAtm values to 0\n",
    "buck['SWRadAtm'] = buck['SWRadAtm'].apply(lambda x: max(0, x))\n",
    "\n",
    "# convert incoming LW Rad to W m-2\n",
    "buck['LWRadAtm'] = buck['strd']/3600\n",
    "\n",
    "# rename temperature\n",
    "buck['airtemp'] = buck['t2m']\n",
    "\n",
    "# rename air pressure\n",
    "buck['airpres'] = buck['sp']\n",
    "\n",
    "# set dewpoint to airtemp for erroneous values where d2m>t2m\n",
    "mask = buck['airtemp'] - buck['d2m'] < 0\n",
    "buck.loc[mask, 'd2m'] = buck.loc[mask, 'airtemp']\n",
    "# compute specific humidity from dewpoint\n",
    "buck['spechum'] = mpcalc.specific_humidity_from_dewpoint(np.array(buck['sp']) * units['Pa'], \n",
    "                                                             np.array(buck['d2m'])*units['kelvin']).to('kg/kg')\n",
    "\n",
    "# drop unnecessary columns\n",
    "buck.drop(columns=['longitude', 'latitude', 'u10', 'v10', 'd2m', 't2m', 'sp', 'ssrd', 'strd', 'tp'], inplace=True)"
   ]
  },
  {
   "cell_type": "code",
   "execution_count": null,
   "id": "ed4cd9b7-f521-43b2-a611-33cff4db1772",
   "metadata": {},
   "outputs": [],
   "source": [
    "# create np arrays with metpy units\n",
    "temperature=np.array(buck.airtemp)*units.kelvin\n",
    "pressure = np.array(buck.airpres)*units.Pa\n",
    "mr = np.array(buck.spechum)*units('kg/kg')\n",
    "\n",
    "# calculate RH using metpy\n",
    "buck['rh'] = mpcalc.relative_humidity_from_mixing_ratio(1013.25*units.hPa, \n",
    "                                                        temperature, \n",
    "                                                        mr).to('percent')\n",
    "\n",
    "# calculate incoming LW radiation using Dilley and O'Brien empirical method\n",
    "lw = lw_clr.dilleyobrien1998(buck.airtemp, buck.rh)\n",
    "buck['LWRadAtm'] = lw\n",
    "lw_mask = buck['LWRadAtm'] < 200\n",
    "buck.loc[lw_mask, 'LWRadAtm'] = buck.LWRadAtm.mean()\n",
    "buck['LWRadAtm'] = lw\n",
    "\n",
    "# drop RH column\n",
    "buck = buck.drop(columns=['rh'])"
   ]
  },
  {
   "cell_type": "code",
   "execution_count": 34,
   "id": "364db37d-2322-457e-9697-a4f0f4ff7ea4",
   "metadata": {},
   "outputs": [],
   "source": [
    "# Convert dataframe to xarray\n",
    "dsx = buck.to_xarray()\n",
    "\n",
    "# Loop through variables and add attributes from template forcing file\n",
    "for data_var in dsx:\n",
    "    dsx[data_var].attrs = template[data_var].attrs\n",
    "    \n",
    "# Add hru dimension\n",
    "dsx = dsx.expand_dims(dim={'hru':1})\n",
    "\n",
    "# Add gap-filled and datastep variables\n",
    "dsx['gap_filled'] = xr.DataArray(np.ones((1,dsx.time.shape[0])),dims = ['hru','time'])\n",
    "dsx['data_step'] = 3600 # 3600 seconds for 1hr timesteps\n",
    "\n",
    "# Transpose gap filled variable to match dimensions with the rest\n",
    "dsx['gap_filled'] = dsx['gap_filled'].T\n",
    "\n",
    "# Convert all to float64\n",
    "for var in dsx.data_vars:\n",
    "    dsx[var] = dsx[var].astype(np.float64)\n",
    "    \n",
    "# Set hruID based on template\n",
    "dsx['hruId'] = (xr.DataArray(np.ones((1))*template['hruId'].values,dims = ['hru'])).astype(np.int32)"
   ]
  },
  {
   "cell_type": "code",
   "execution_count": null,
   "id": "213d0f5b-4e3e-420d-b86e-020807e997e5",
   "metadata": {},
   "outputs": [],
   "source": [
    "# copy attributes from template\n",
    "count = 0\n",
    "for var in dsx.data_vars:\n",
    "    print(var,count)\n",
    "    count += 1\n",
    "    if count <= 7:\n",
    "        attribs = dsx[var].attrs\n",
    "        arr_t = dsx[var].values.T\n",
    "        dsx[var] = xr.DataArray(dims = ['time','hru'],data = arr_t)\n",
    "        dsx[var].attrs = attribs"
   ]
  },
  {
   "cell_type": "code",
   "execution_count": 37,
   "id": "353691c1-62f5-40da-8bab-143004fc2326",
   "metadata": {},
   "outputs": [],
   "source": [
    "# save to netcdf with proper time encoding\n",
    "dsx.to_netcdf('../forcings/buck_era5_2016.nc',\n",
    "                        encoding = {\"time\":\n",
    "                                        {'dtype' : 'float64',\n",
    "                                         'units' : 'hours since 1990-01-01 00:00:00',\n",
    "                                         'calendar' : 'standard'}})"
   ]
  }
 ],
 "metadata": {
  "kernelspec": {
   "display_name": "Python 3 (ipykernel)",
   "language": "python",
   "name": "python3"
  },
  "language_info": {
   "codemirror_mode": {
    "name": "ipython",
    "version": 3
   },
   "file_extension": ".py",
   "mimetype": "text/x-python",
   "name": "python",
   "nbconvert_exporter": "python",
   "pygments_lexer": "ipython3",
   "version": "3.9.7"
  }
 },
 "nbformat": 4,
 "nbformat_minor": 5
}
