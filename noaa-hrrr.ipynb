{
 "cells": [
  {
   "cell_type": "markdown",
   "id": "59cbbe33",
   "metadata": {},
   "source": [
    "\n",
    "## Accessing NOAA HRRR data on Azure\n",
    "\n",
    "The NOAA [HRRR](https://www.nco.ncep.noaa.gov/pmb/products/hrrr/) is a real-time 3km resolution, hourly updated, cloud-resolving, convection-allowing atmospheric model, initialized by 3km grids with 3km radar assimilation. \n",
    "\n",
    "This notebook provides an example of accessing HRRR data from blob storage on Azure, including (1) finding the data file corresponding to a date and time, (2) retrieving a portion of that file from blob storage which includes the surface temperature variable, (3) opening the file using the `xarray` library, and (4) rendering an image of the forecast.\n",
    "\n",
    "This dataset is stored in the East US Azure region, so this notebook will run most efficiently on Azure compute located in the same region. If you are using this data for environmental science applications, consider applying for an AI for Earth grant to support your compute requirements.\n",
    "\n",
    "This dataset is documented at <http://aka.ms/ai4edata-hrrr>."
   ]
  },
  {
   "cell_type": "markdown",
   "id": "fd36fcca",
   "metadata": {},
   "source": [
    "### Set up the environment\n",
    "\n",
    "We're using `xarray` with the `cfgrib` engine to open the GRIB2 data into an xarray Dataset. `cfgrib` has some binary dependencies so it's easiest to [install with Conda](https://github.com/ecmwf/cfgrib#installation)."
   ]
  },
  {
   "cell_type": "code",
   "execution_count": 5,
   "id": "30fa700d",
   "metadata": {},
   "outputs": [
    {
     "ename": "RuntimeError",
     "evalue": "Cannot find the ecCodes library",
     "output_type": "error",
     "traceback": [
      "\u001b[0;31m---------------------------------------------------------------------------\u001b[0m",
      "\u001b[0;31mRuntimeError\u001b[0m                              Traceback (most recent call last)",
      "Cell \u001b[0;32mIn[5], line 12\u001b[0m\n\u001b[1;32m      9\u001b[0m \u001b[38;5;28;01mimport\u001b[39;00m \u001b[38;5;21;01mcmocean\u001b[39;00m\n\u001b[1;32m     11\u001b[0m \u001b[38;5;66;03m# Not used directly, but used via xarray\u001b[39;00m\n\u001b[0;32m---> 12\u001b[0m \u001b[38;5;28;01mimport\u001b[39;00m \u001b[38;5;21;01mcfgrib\u001b[39;00m\n",
      "File \u001b[0;32m/srv/conda/envs/notebook/lib/python3.12/site-packages/cfgrib/__init__.py:20\u001b[0m\n\u001b[1;32m     18\u001b[0m \u001b[38;5;66;03m# cfgrib core API depends on the ECMWF ecCodes C-library only\u001b[39;00m\n\u001b[1;32m     19\u001b[0m \u001b[38;5;28;01mfrom\u001b[39;00m \u001b[38;5;21;01m.\u001b[39;00m\u001b[38;5;21;01mabc\u001b[39;00m \u001b[38;5;28;01mimport\u001b[39;00m Field, Fieldset, Index, MappingFieldset\n\u001b[0;32m---> 20\u001b[0m \u001b[38;5;28;01mfrom\u001b[39;00m \u001b[38;5;21;01m.\u001b[39;00m\u001b[38;5;21;01mcfmessage\u001b[39;00m \u001b[38;5;28;01mimport\u001b[39;00m COMPUTED_KEYS\n\u001b[1;32m     21\u001b[0m \u001b[38;5;28;01mfrom\u001b[39;00m \u001b[38;5;21;01m.\u001b[39;00m\u001b[38;5;21;01mdataset\u001b[39;00m \u001b[38;5;28;01mimport\u001b[39;00m (\n\u001b[1;32m     22\u001b[0m     Dataset,\n\u001b[1;32m     23\u001b[0m     DatasetBuildError,\n\u001b[0;32m   (...)\u001b[0m\n\u001b[1;32m     27\u001b[0m     open_from_index,\n\u001b[1;32m     28\u001b[0m )\n\u001b[1;32m     29\u001b[0m \u001b[38;5;28;01mfrom\u001b[39;00m \u001b[38;5;21;01m.\u001b[39;00m\u001b[38;5;21;01mmessages\u001b[39;00m \u001b[38;5;28;01mimport\u001b[39;00m FieldsetIndex, FileStream, Message\n",
      "File \u001b[0;32m/srv/conda/envs/notebook/lib/python3.12/site-packages/cfgrib/cfmessage.py:29\u001b[0m\n\u001b[1;32m     26\u001b[0m \u001b[38;5;28;01mimport\u001b[39;00m \u001b[38;5;21;01mattr\u001b[39;00m\n\u001b[1;32m     27\u001b[0m \u001b[38;5;28;01mimport\u001b[39;00m \u001b[38;5;21;01mnumpy\u001b[39;00m \u001b[38;5;28;01mas\u001b[39;00m \u001b[38;5;21;01mnp\u001b[39;00m\n\u001b[0;32m---> 29\u001b[0m \u001b[38;5;28;01mfrom\u001b[39;00m \u001b[38;5;21;01m.\u001b[39;00m \u001b[38;5;28;01mimport\u001b[39;00m abc, messages\n\u001b[1;32m     31\u001b[0m LOG \u001b[38;5;241m=\u001b[39m logging\u001b[38;5;241m.\u001b[39mgetLogger(\u001b[38;5;18m__name__\u001b[39m)\n\u001b[1;32m     33\u001b[0m \u001b[38;5;66;03m# taken from eccodes stepUnits.table\u001b[39;00m\n",
      "File \u001b[0;32m/srv/conda/envs/notebook/lib/python3.12/site-packages/cfgrib/messages.py:28\u001b[0m\n\u001b[1;32m     25\u001b[0m \u001b[38;5;28;01mimport\u001b[39;00m \u001b[38;5;21;01mtyping\u001b[39;00m \u001b[38;5;28;01mas\u001b[39;00m \u001b[38;5;21;01mT\u001b[39;00m\n\u001b[1;32m     27\u001b[0m \u001b[38;5;28;01mimport\u001b[39;00m \u001b[38;5;21;01mattr\u001b[39;00m\n\u001b[0;32m---> 28\u001b[0m \u001b[38;5;28;01mimport\u001b[39;00m \u001b[38;5;21;01meccodes\u001b[39;00m  \u001b[38;5;66;03m# type: ignore\u001b[39;00m\n\u001b[1;32m     29\u001b[0m \u001b[38;5;28;01mimport\u001b[39;00m \u001b[38;5;21;01mnumpy\u001b[39;00m \u001b[38;5;28;01mas\u001b[39;00m \u001b[38;5;21;01mnp\u001b[39;00m\n\u001b[1;32m     31\u001b[0m \u001b[38;5;28;01mfrom\u001b[39;00m \u001b[38;5;21;01m.\u001b[39;00m \u001b[38;5;28;01mimport\u001b[39;00m abc\n",
      "File \u001b[0;32m/srv/conda/envs/notebook/lib/python3.12/site-packages/eccodes/__init__.py:13\u001b[0m\n\u001b[1;32m      1\u001b[0m \u001b[38;5;66;03m#\u001b[39;00m\n\u001b[1;32m      2\u001b[0m \u001b[38;5;66;03m# (C) Copyright 2017- ECMWF.\u001b[39;00m\n\u001b[1;32m      3\u001b[0m \u001b[38;5;66;03m#\u001b[39;00m\n\u001b[0;32m   (...)\u001b[0m\n\u001b[1;32m     10\u001b[0m \u001b[38;5;66;03m#\u001b[39;00m\n\u001b[1;32m     11\u001b[0m \u001b[38;5;66;03m#\u001b[39;00m\n\u001b[0;32m---> 13\u001b[0m \u001b[38;5;28;01mfrom\u001b[39;00m \u001b[38;5;21;01m.\u001b[39;00m\u001b[38;5;21;01meccodes\u001b[39;00m \u001b[38;5;28;01mimport\u001b[39;00m \u001b[38;5;241m*\u001b[39m  \u001b[38;5;66;03m# noqa\u001b[39;00m\n\u001b[1;32m     14\u001b[0m \u001b[38;5;28;01mfrom\u001b[39;00m \u001b[38;5;21;01m.\u001b[39;00m\u001b[38;5;21;01mhighlevel\u001b[39;00m \u001b[38;5;28;01mimport\u001b[39;00m \u001b[38;5;241m*\u001b[39m  \u001b[38;5;66;03m# noqa\u001b[39;00m\n",
      "File \u001b[0;32m/srv/conda/envs/notebook/lib/python3.12/site-packages/eccodes/eccodes.py:12\u001b[0m\n\u001b[1;32m      1\u001b[0m \u001b[38;5;66;03m#\u001b[39;00m\n\u001b[1;32m      2\u001b[0m \u001b[38;5;66;03m# (C) Copyright 2017- ECMWF.\u001b[39;00m\n\u001b[1;32m      3\u001b[0m \u001b[38;5;66;03m#\u001b[39;00m\n\u001b[0;32m   (...)\u001b[0m\n\u001b[1;32m     10\u001b[0m \u001b[38;5;66;03m#\u001b[39;00m\n\u001b[1;32m     11\u001b[0m \u001b[38;5;66;03m#\u001b[39;00m\n\u001b[0;32m---> 12\u001b[0m \u001b[38;5;28;01mfrom\u001b[39;00m \u001b[38;5;21;01mgribapi\u001b[39;00m \u001b[38;5;28;01mimport\u001b[39;00m (\n\u001b[1;32m     13\u001b[0m     CODES_PRODUCT_ANY,\n\u001b[1;32m     14\u001b[0m     CODES_PRODUCT_BUFR,\n\u001b[1;32m     15\u001b[0m     CODES_PRODUCT_GRIB,\n\u001b[1;32m     16\u001b[0m     CODES_PRODUCT_GTS,\n\u001b[1;32m     17\u001b[0m     CODES_PRODUCT_METAR,\n\u001b[1;32m     18\u001b[0m )\n\u001b[1;32m     19\u001b[0m \u001b[38;5;28;01mfrom\u001b[39;00m \u001b[38;5;21;01mgribapi\u001b[39;00m \u001b[38;5;28;01mimport\u001b[39;00m GRIB_CHECK \u001b[38;5;28;01mas\u001b[39;00m CODES_CHECK\n\u001b[1;32m     20\u001b[0m \u001b[38;5;28;01mfrom\u001b[39;00m \u001b[38;5;21;01mgribapi\u001b[39;00m \u001b[38;5;28;01mimport\u001b[39;00m GRIB_MISSING_DOUBLE \u001b[38;5;28;01mas\u001b[39;00m CODES_MISSING_DOUBLE\n",
      "File \u001b[0;32m/srv/conda/envs/notebook/lib/python3.12/site-packages/gribapi/__init__.py:13\u001b[0m\n\u001b[1;32m      1\u001b[0m \u001b[38;5;66;03m#\u001b[39;00m\n\u001b[1;32m      2\u001b[0m \u001b[38;5;66;03m# (C) Copyright 2017- ECMWF.\u001b[39;00m\n\u001b[1;32m      3\u001b[0m \u001b[38;5;66;03m#\u001b[39;00m\n\u001b[0;32m   (...)\u001b[0m\n\u001b[1;32m     10\u001b[0m \u001b[38;5;66;03m#\u001b[39;00m\n\u001b[1;32m     11\u001b[0m \u001b[38;5;66;03m#\u001b[39;00m\n\u001b[0;32m---> 13\u001b[0m \u001b[38;5;28;01mfrom\u001b[39;00m \u001b[38;5;21;01m.\u001b[39;00m\u001b[38;5;21;01mgribapi\u001b[39;00m \u001b[38;5;28;01mimport\u001b[39;00m \u001b[38;5;241m*\u001b[39m  \u001b[38;5;66;03m# noqa\u001b[39;00m\n\u001b[1;32m     14\u001b[0m \u001b[38;5;28;01mfrom\u001b[39;00m \u001b[38;5;21;01m.\u001b[39;00m\u001b[38;5;21;01mgribapi\u001b[39;00m \u001b[38;5;28;01mimport\u001b[39;00m __version__, lib\n\u001b[1;32m     16\u001b[0m \u001b[38;5;66;03m# The minimum recommended version for the ecCodes package\u001b[39;00m\n",
      "File \u001b[0;32m/srv/conda/envs/notebook/lib/python3.12/site-packages/gribapi/gribapi.py:34\u001b[0m\n\u001b[1;32m     30\u001b[0m \u001b[38;5;28;01mfrom\u001b[39;00m \u001b[38;5;21;01mfunctools\u001b[39;00m \u001b[38;5;28;01mimport\u001b[39;00m wraps\n\u001b[1;32m     32\u001b[0m \u001b[38;5;28;01mimport\u001b[39;00m \u001b[38;5;21;01mnumpy\u001b[39;00m \u001b[38;5;28;01mas\u001b[39;00m \u001b[38;5;21;01mnp\u001b[39;00m\n\u001b[0;32m---> 34\u001b[0m \u001b[38;5;28;01mfrom\u001b[39;00m \u001b[38;5;21;01mgribapi\u001b[39;00m\u001b[38;5;21;01m.\u001b[39;00m\u001b[38;5;21;01merrors\u001b[39;00m \u001b[38;5;28;01mimport\u001b[39;00m GribInternalError\n\u001b[1;32m     36\u001b[0m \u001b[38;5;28;01mfrom\u001b[39;00m \u001b[38;5;21;01m.\u001b[39;00m \u001b[38;5;28;01mimport\u001b[39;00m errors\n\u001b[1;32m     37\u001b[0m \u001b[38;5;28;01mfrom\u001b[39;00m \u001b[38;5;21;01m.\u001b[39;00m\u001b[38;5;21;01mbindings\u001b[39;00m \u001b[38;5;28;01mimport\u001b[39;00m ENC\n",
      "File \u001b[0;32m/srv/conda/envs/notebook/lib/python3.12/site-packages/gribapi/errors.py:16\u001b[0m\n\u001b[1;32m      1\u001b[0m \u001b[38;5;66;03m#\u001b[39;00m\n\u001b[1;32m      2\u001b[0m \u001b[38;5;66;03m# (C) Copyright 2017- ECMWF.\u001b[39;00m\n\u001b[1;32m      3\u001b[0m \u001b[38;5;66;03m#\u001b[39;00m\n\u001b[0;32m   (...)\u001b[0m\n\u001b[1;32m      9\u001b[0m \u001b[38;5;66;03m# does it submit to any jurisdiction.\u001b[39;00m\n\u001b[1;32m     10\u001b[0m \u001b[38;5;66;03m#\u001b[39;00m\n\u001b[1;32m     12\u001b[0m \u001b[38;5;124;03m\"\"\"\u001b[39;00m\n\u001b[1;32m     13\u001b[0m \u001b[38;5;124;03mException class hierarchy\u001b[39;00m\n\u001b[1;32m     14\u001b[0m \u001b[38;5;124;03m\"\"\"\u001b[39;00m\n\u001b[0;32m---> 16\u001b[0m \u001b[38;5;28;01mfrom\u001b[39;00m \u001b[38;5;21;01m.\u001b[39;00m\u001b[38;5;21;01mbindings\u001b[39;00m \u001b[38;5;28;01mimport\u001b[39;00m ENC, ffi, lib\n\u001b[1;32m     19\u001b[0m \u001b[38;5;28;01mclass\u001b[39;00m \u001b[38;5;21;01mGribInternalError\u001b[39;00m(\u001b[38;5;167;01mException\u001b[39;00m):\n\u001b[1;32m     20\u001b[0m \u001b[38;5;250m    \u001b[39m\u001b[38;5;124;03m\"\"\"\u001b[39;00m\n\u001b[1;32m     21\u001b[0m \u001b[38;5;124;03m    @brief Wrap errors coming from the C API in a Python exception object.\u001b[39;00m\n\u001b[1;32m     22\u001b[0m \n\u001b[1;32m     23\u001b[0m \u001b[38;5;124;03m    Base class for all exceptions\u001b[39;00m\n\u001b[1;32m     24\u001b[0m \u001b[38;5;124;03m    \"\"\"\u001b[39;00m\n",
      "File \u001b[0;32m/srv/conda/envs/notebook/lib/python3.12/site-packages/gribapi/bindings.py:35\u001b[0m\n\u001b[1;32m     33\u001b[0m library_path \u001b[38;5;241m=\u001b[39m findlibs\u001b[38;5;241m.\u001b[39mfind(\u001b[38;5;124m\"\u001b[39m\u001b[38;5;124meccodes\u001b[39m\u001b[38;5;124m\"\u001b[39m)\n\u001b[1;32m     34\u001b[0m \u001b[38;5;28;01mif\u001b[39;00m library_path \u001b[38;5;129;01mis\u001b[39;00m \u001b[38;5;28;01mNone\u001b[39;00m:\n\u001b[0;32m---> 35\u001b[0m     \u001b[38;5;28;01mraise\u001b[39;00m \u001b[38;5;167;01mRuntimeError\u001b[39;00m(\u001b[38;5;124m\"\u001b[39m\u001b[38;5;124mCannot find the ecCodes library\u001b[39m\u001b[38;5;124m\"\u001b[39m)\n\u001b[1;32m     37\u001b[0m \u001b[38;5;66;03m# default encoding for ecCodes strings\u001b[39;00m\n\u001b[1;32m     38\u001b[0m ENC \u001b[38;5;241m=\u001b[39m \u001b[38;5;124m\"\u001b[39m\u001b[38;5;124mascii\u001b[39m\u001b[38;5;124m\"\u001b[39m\n",
      "\u001b[0;31mRuntimeError\u001b[0m: Cannot find the ecCodes library"
     ]
    }
   ],
   "source": [
    "import io\n",
    "from datetime import date, timedelta\n",
    "\n",
    "import xarray as xr\n",
    "import requests\n",
    "import cartopy.crs as ccrs\n",
    "import cartopy.feature as cfeature\n",
    "import matplotlib.pyplot as plt\n",
    "import cmocean\n",
    "\n",
    "# Not used directly, but used via xarray\n",
    "import cfgrib"
   ]
  },
  {
   "cell_type": "code",
   "execution_count": 4,
   "id": "decb181f-e519-4feb-a16d-3f320fa0a919",
   "metadata": {},
   "outputs": [
    {
     "name": "stdout",
     "output_type": "stream",
     "text": [
      "Requirement already satisfied: cmocean in /srv/conda/envs/notebook/lib/python3.12/site-packages (3.1.3)\n",
      "Collecting cfgrib\n",
      "  Downloading cfgrib-0.9.10.4-py3-none-any.whl.metadata (50 kB)\n",
      "\u001b[2K     \u001b[90m━━━━━━━━━━━━━━━━━━━━━━━━━━━━━━━━━━━━━━━━\u001b[0m \u001b[32m50.2/50.2 kB\u001b[0m \u001b[31m1.6 MB/s\u001b[0m eta \u001b[36m0:00:00\u001b[0m\n",
      "\u001b[?25hRequirement already satisfied: matplotlib in /srv/conda/envs/notebook/lib/python3.12/site-packages (from cmocean) (3.8.2)\n",
      "Requirement already satisfied: numpy in /srv/conda/envs/notebook/lib/python3.12/site-packages (from cmocean) (1.26.4)\n",
      "Requirement already satisfied: packaging in /srv/conda/envs/notebook/lib/python3.12/site-packages (from cmocean) (23.2)\n",
      "Requirement already satisfied: attrs>=19.2 in /srv/conda/envs/notebook/lib/python3.12/site-packages (from cfgrib) (23.1.0)\n",
      "Requirement already satisfied: click in /srv/conda/envs/notebook/lib/python3.12/site-packages (from cfgrib) (8.1.7)\n",
      "Collecting eccodes>=0.9.8 (from cfgrib)\n",
      "  Downloading eccodes-1.7.0.tar.gz (2.3 MB)\n",
      "\u001b[2K     \u001b[90m━━━━━━━━━━━━━━━━━━━━━━━━━━━━━━━━━━━━━━━━\u001b[0m \u001b[32m2.3/2.3 MB\u001b[0m \u001b[31m35.9 MB/s\u001b[0m eta \u001b[36m0:00:00\u001b[0ma \u001b[36m0:00:01\u001b[0m\n",
      "\u001b[?25h  Preparing metadata (setup.py) ... \u001b[?25ldone\n",
      "\u001b[?25hRequirement already satisfied: cffi in /srv/conda/envs/notebook/lib/python3.12/site-packages (from eccodes>=0.9.8->cfgrib) (1.16.0)\n",
      "Collecting findlibs (from eccodes>=0.9.8->cfgrib)\n",
      "  Downloading findlibs-0.0.5.tar.gz (6.6 kB)\n",
      "  Preparing metadata (setup.py) ... \u001b[?25ldone\n",
      "\u001b[?25hRequirement already satisfied: contourpy>=1.0.1 in /srv/conda/envs/notebook/lib/python3.12/site-packages (from matplotlib->cmocean) (1.2.0)\n",
      "Requirement already satisfied: cycler>=0.10 in /srv/conda/envs/notebook/lib/python3.12/site-packages (from matplotlib->cmocean) (0.12.1)\n",
      "Requirement already satisfied: fonttools>=4.22.0 in /srv/conda/envs/notebook/lib/python3.12/site-packages (from matplotlib->cmocean) (4.48.1)\n",
      "Requirement already satisfied: kiwisolver>=1.3.1 in /srv/conda/envs/notebook/lib/python3.12/site-packages (from matplotlib->cmocean) (1.4.5)\n",
      "Requirement already satisfied: pillow>=8 in /srv/conda/envs/notebook/lib/python3.12/site-packages (from matplotlib->cmocean) (10.2.0)\n",
      "Requirement already satisfied: pyparsing>=2.3.1 in /srv/conda/envs/notebook/lib/python3.12/site-packages (from matplotlib->cmocean) (3.1.1)\n",
      "Requirement already satisfied: python-dateutil>=2.7 in /srv/conda/envs/notebook/lib/python3.12/site-packages (from matplotlib->cmocean) (2.8.2)\n",
      "Requirement already satisfied: six>=1.5 in /srv/conda/envs/notebook/lib/python3.12/site-packages (from python-dateutil>=2.7->matplotlib->cmocean) (1.16.0)\n",
      "Requirement already satisfied: pycparser in /srv/conda/envs/notebook/lib/python3.12/site-packages (from cffi->eccodes>=0.9.8->cfgrib) (2.21)\n",
      "Downloading cfgrib-0.9.10.4-py3-none-any.whl (47 kB)\n",
      "\u001b[2K   \u001b[90m━━━━━━━━━━━━━━━━━━━━━━━━━━━━━━━━━━━━━━━━\u001b[0m \u001b[32m47.1/47.1 kB\u001b[0m \u001b[31m3.5 MB/s\u001b[0m eta \u001b[36m0:00:00\u001b[0m\n",
      "\u001b[?25hBuilding wheels for collected packages: eccodes, findlibs\n",
      "  Building wheel for eccodes (setup.py) ... \u001b[?25ldone\n",
      "\u001b[?25h  Created wheel for eccodes: filename=eccodes-1.7.0-py3-none-any.whl size=41293 sha256=a97fa7af275456e6fce88236573b09c70d079d6dea5f59bf1c2f36b1cee37f66\n",
      "  Stored in directory: /home/jovyan/.cache/pip/wheels/68/a3/a6/196d711a892fffb52680fb05f996332d7f0fa125c5fbc591a7\n",
      "  Building wheel for findlibs (setup.py) ... \u001b[?25ldone\n",
      "\u001b[?25h  Created wheel for findlibs: filename=findlibs-0.0.5-py3-none-any.whl size=6939 sha256=7b01e5ad1f6a375531251e43ef1748f05878bf82562411baa0c04ae0db0f1418\n",
      "  Stored in directory: /home/jovyan/.cache/pip/wheels/45/9b/ec/b90c9bd8c078a0ff3c7e6ec60c8ae54483402feb8631a38ae6\n",
      "Successfully built eccodes findlibs\n",
      "Installing collected packages: findlibs, eccodes, cfgrib\n",
      "Successfully installed cfgrib-0.9.10.4 eccodes-1.7.0 findlibs-0.0.5\n"
     ]
    }
   ],
   "source": [
    "!pip install cmocean cfgrib"
   ]
  },
  {
   "cell_type": "markdown",
   "id": "474de72d",
   "metadata": {},
   "source": [
    "### Assemble the URL for a single forecast model run\n",
    "\n",
    "HRRR model data are in files named by date and sector (either CONUS or Alaska). We'll load up yesterday's 2D surface levels model forecast for CONUS run from 12pm UTC. The URL will be assembled based on the path parameters [outlined in our documentation](https://github.com/microsoft/AIforEarthDataSets/blob/main/data/noaa-hrrr.md#storage-resources). "
   ]
  },
  {
   "cell_type": "code",
   "execution_count": null,
   "id": "fddf7aad",
   "metadata": {},
   "outputs": [],
   "source": [
    "# Constants for creating the full URL\n",
    "blob_container = \"https://noaahrrr.blob.core.windows.net/hrrr\"\n",
    "sector = \"conus\"\n",
    "yesterday = date.today() - timedelta(days=1)\n",
    "cycle = 12          # noon\n",
    "forecast_hour = 1   # offset from cycle time\n",
    "product = \"wrfsfcf\" # 2D surface levels\n",
    "\n",
    "# Put it all together\n",
    "file_path = f\"hrrr.t{cycle:02}z.{product}{forecast_hour:02}.grib2\"\n",
    "url = f\"{blob_container}/hrrr.{yesterday:%Y%m%d}/{sector}/{file_path}\"\n",
    "\n",
    "print(url)"
   ]
  },
  {
   "cell_type": "markdown",
   "id": "991304b3",
   "metadata": {},
   "source": [
    "### Determine the file-subset of our variable\n",
    "\n",
    "The GRIB2 file format stacks binary representations of 2D arrays under a top-level header. This means that instead of downloading and opening the whole file of 170+ variables (150MB+), we can read from a byte offset of just a single variable (or several). The NOAA HRRR data comes with a sidecar index file that specifies start-byte positions for each variable. These files have the same name as the HRRR file, suffixed with `.idx`. \n",
    "\n",
    "Let's use this to calculate the offset of the variable we want, before making the data request."
   ]
  },
  {
   "cell_type": "code",
   "execution_count": null,
   "id": "0b7d639a",
   "metadata": {},
   "outputs": [],
   "source": [
    "# Fetch the idx file by appending the .idx file extension to our already formatted URL\n",
    "r = requests.get(f\"{url}.idx\")\n",
    "idx = r.text.splitlines()\n",
    "\n",
    "# Take a peek at the content of the index\n",
    "print(*idx[0:10], sep=\"\\n\")"
   ]
  },
  {
   "cell_type": "code",
   "execution_count": null,
   "id": "8980c62f",
   "metadata": {},
   "outputs": [],
   "source": [
    "# You can see it has a 1-indexed base line number, staring byte position, date, variable, atmosphere level,\n",
    "# and forecast description. The lines are colon-delimited. \n",
    "\n",
    "# Let's grab surface temperature `TMP:surface`.\n",
    "sfc_temp_idx = [l for l in idx if \":TMP:surface\" in l][0].split(\":\")\n",
    "print(\"Surface temp line:\", sfc_temp_idx)\n",
    "\n",
    "# Pluck the byte offset from this line, plus the beginning offset of the next line\n",
    "line_num = int(sfc_temp_idx[0])\n",
    "range_start = sfc_temp_idx[1]\n",
    "\n",
    "# The line number values are 1-indexed, so we don't need to increment it to get the next list index,\n",
    "# but check we're not already reading the last line\n",
    "next_line = idx[line_num].split(':') if line_num < len(idx) else None\n",
    "\n",
    "# Pluck the start of the next byte offset, or nothing if we were on the last line\n",
    "range_end = next_line[1] if next_line else None\n",
    "\n",
    "print(f\"Byte range: {range_start}-{range_end}\")"
   ]
  },
  {
   "cell_type": "markdown",
   "id": "5acc5318",
   "metadata": {},
   "source": [
    "### Request the surface temperature file-subset\n",
    "\n",
    "Now that we have the byte range of the single variable we want, we can make a traditional GET request to the Azure Blob Storage container, which supports HTTP range headers. We'll have to save this file to disk since [cfgrib does not currently support reading file-like objects](https://github.com/ecmwf/cfgrib/issues/99)."
   ]
  },
  {
   "cell_type": "code",
   "execution_count": null,
   "id": "bb3f86d8",
   "metadata": {},
   "outputs": [],
   "source": [
    "import tempfile\n",
    "file = tempfile.NamedTemporaryFile(prefix=\"tmp_\", delete=False)\n",
    "\n",
    "headers = {\"Range\": f\"bytes={range_start}-{range_end}\"}\n",
    "resp = requests.get(url, headers=headers, stream=True)\n",
    "\n",
    "with file as f:\n",
    "    f.write(resp.content)"
   ]
  },
  {
   "cell_type": "markdown",
   "id": "1f5ef6e3",
   "metadata": {},
   "source": [
    "### Open the GRIB2 file as an xarray dataset\n",
    "\n",
    "The downloaded file subset is a valid GRIB2 file. Open it with the `cfgrib` engine for `xarray` and we can do traditional `xarray` operations. Setting `indexpath` here to an empty string tells `cfgrib` to open the file without an associated `.idx` file (which doesn't exist, since we just created this subset file)."
   ]
  },
  {
   "cell_type": "code",
   "execution_count": null,
   "id": "66fb2fe2",
   "metadata": {},
   "outputs": [],
   "source": [
    "ds = xr.open_dataset(file.name, engine='cfgrib', \n",
    "                     backend_kwargs={'indexpath':''})"
   ]
  },
  {
   "cell_type": "markdown",
   "id": "a2c78d59",
   "metadata": {},
   "source": [
    "### Check the dataset value\n",
    "\n",
    "Let's do a quick check of the distribution of temperature values across the country to make sure things look right."
   ]
  },
  {
   "cell_type": "code",
   "execution_count": null,
   "id": "0df072e2",
   "metadata": {},
   "outputs": [],
   "source": [
    "ds.t.plot.hist(edgecolor=\"white\")\n",
    "plt.show()"
   ]
  },
  {
   "cell_type": "markdown",
   "id": "34a81981",
   "metadata": {},
   "source": [
    "### Plot an image of the temperature forecast\n",
    "\n",
    "First, let's create a Cartopy CRS (coordinate reference system) specification from the attributes in the dataset. The HRRR data comes in the Lambert conformal projection. See [this example](https://github.com/blaylockbk/HRRR_archive_download/blob/4105f21ee01ad5a915d9545008fad94cf8af8213/herbie/accessors.py#L69-L78) for more information."
   ]
  },
  {
   "cell_type": "code",
   "execution_count": null,
   "id": "ec5b8d10",
   "metadata": {},
   "outputs": [],
   "source": [
    "attrs = ds.t.attrs\n",
    "\n",
    "assert attrs['GRIB_gridType'] == 'lambert'\n",
    "\n",
    "# Define the CRS with attributes from the temperate DataArray\n",
    "prj_kwargs = dict(\n",
    "    globe=ccrs.Globe(ellipse='sphere'),\n",
    "    central_latitude=attrs['GRIB_LaDInDegrees'],\n",
    "    central_longitude=attrs['GRIB_LoVInDegrees'],\n",
    "    standard_parallels=(attrs['GRIB_Latin1InDegrees'],\\\n",
    "                        attrs['GRIB_Latin2InDegrees'])\n",
    ")\n",
    "\n",
    "prj = ccrs.LambertConformal(**prj_kwargs)"
   ]
  },
  {
   "cell_type": "markdown",
   "id": "cd45a08e",
   "metadata": {},
   "source": [
    "Now we can plot the entire CONUS with some overlaid context from `cartopy` and a nice thermal colormap from `cmocean`."
   ]
  },
  {
   "cell_type": "code",
   "execution_count": null,
   "id": "7b9d9215",
   "metadata": {},
   "outputs": [],
   "source": [
    "# Ignore some matplotlib deprecation warnings\n",
    "import warnings; warnings.simplefilter(\"ignore\")\n",
    "\n",
    "fig = plt.figure(figsize=(15,8))\n",
    "ax = plt.axes(projection=prj)\n",
    "plt_kwargs = dict(x='longitude', y='latitude', cmap=cmocean.cm.thermal, \n",
    "                  transform=ccrs.PlateCarree())\n",
    "\n",
    "ds.t.plot(**plt_kwargs, ax=ax)\n",
    "ax.coastlines(linewidth=0.5)\n",
    "ax.add_feature(cfeature.STATES.with_scale('50m'), linewidth=0.5)\n",
    "plt.show()"
   ]
  },
  {
   "cell_type": "markdown",
   "id": "8d0da7b7",
   "metadata": {},
   "source": [
    "Lastly, let's convert Kelvin to Centigrade, and zoom in on the Southwest where there is the most temperature variation."
   ]
  },
  {
   "cell_type": "code",
   "execution_count": null,
   "id": "e040869e",
   "metadata": {},
   "outputs": [],
   "source": [
    "# Increase the dpi a bit for some crisper text\n",
    "fig = plt.figure(figsize=(15,8), dpi=100)\n",
    "ax = plt.axes(projection=prj)\n",
    "\n",
    "# K to C\n",
    "with xr.set_options(keep_attrs=True):\n",
    "    t_c = ds.t - 273.15\n",
    "    t_c.attrs[\"units\"] = \"C\"\n",
    "\n",
    "# Add some context and zoom to the SW\n",
    "ax.coastlines(linewidth=0.5)\n",
    "ax.add_feature(cfeature.STATES.with_scale('50m'), linewidth=0.5)\n",
    "ax.set_extent([-121, -108, 33, 39], crs=ccrs.PlateCarree())\n",
    "\n",
    "t_c.plot(**plt_kwargs, ax=ax)\n",
    "d = ds.coords['valid_time'].values\n",
    "\n",
    "plt.title(f\"HRRR Surface Temperatures Valid {yesterday} {cycle + forecast_hour:02}:00 UTC\")\n",
    "plt.show()"
   ]
  },
  {
   "cell_type": "markdown",
   "id": "c142489c",
   "metadata": {},
   "source": [
    "### Additional resources\n",
    "\n",
    "Check out the [HRRR Archive Download](https://github.com/blaylockbk/HRRR_archive_download) repo for a great collection of utility functions and more documentation about accessing and using this dataset. "
   ]
  }
 ],
 "metadata": {
  "kernelspec": {
   "display_name": "Python 3 (ipykernel)",
   "language": "python",
   "name": "python3"
  },
  "language_info": {
   "codemirror_mode": {
    "name": "ipython",
    "version": 3
   },
   "file_extension": ".py",
   "mimetype": "text/x-python",
   "name": "python",
   "nbconvert_exporter": "python",
   "pygments_lexer": "ipython3",
   "version": "3.12.1"
  }
 },
 "nbformat": 4,
 "nbformat_minor": 5
}
